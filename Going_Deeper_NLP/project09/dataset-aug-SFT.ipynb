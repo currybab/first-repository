{
 "cells": [
  {
   "cell_type": "code",
   "execution_count": 1,
   "id": "1f71b403",
   "metadata": {},
   "outputs": [],
   "source": [
    "model_name = 'skt/kogpt2-base-v2'\n",
    "save_dir = model_name.replace('/', '__') + '__data-add'"
   ]
  },
  {
   "cell_type": "markdown",
   "id": "9425dd72",
   "metadata": {},
   "source": [
    "### SFT 데이터셋 확인"
   ]
  },
  {
   "cell_type": "code",
   "execution_count": 2,
   "id": "198dc30d",
   "metadata": {},
   "outputs": [
    {
     "name": "stdout",
     "output_type": "stream",
     "text": [
      "12000\n"
     ]
    },
    {
     "data": {
      "text/plain": [
       "[{'prompt': '불고기용 고기 한우에요?',\n",
       "  'completion': \"'저는 인공지능 챗봇이며, 직접적으로 식품에 관한 정보를 가지고 있지 않습니다. 하지만 일반적으로 불고기용 고기는 한우, 쇠고기, 돼지고기 등 다양한 종류의 고기를 사용합니다. 하지만 한우는 대표적인 고급 육류로 알려져 있기 때문에, 한우를 사용하는 경우도 많습니다. 알러지나 개별 건강 상태에 따라 다를 수 있으니 충분한 정보 수집 후에 선택해 주시기 바랍니다.\",\n",
       "  'tokens': 193},\n",
       " {'prompt': '쓰던 앱이 유료로 전환됐어',\n",
       "  'completion': \"'어떤 앱인지 모르기 때문에 정확한 답변을 드리기 어렵습니다. 하지만, 일반적으로 유료 전환된 앱은 기존 무료 앱에서 추가적인 기능이나 서비스를 제공하는 경우가 많습니다. 이 경우, 유료 전환 이전 가격이 매우 저렴하거나 무료인 경우가 많으므로, 앱을 계속 사용하려면 추가적인 비용을 지불해야 할 수 있습니다. 하지만, 유료 전환 이후에는 기존 사용자 또는 새로운 사용자 모두가 추가 기능과 높은 품질의 서비스를 이용할 수 있게 됩니다. 따라서, 앱 개발자는 유료 모델로 전환함으로써 앱의 수익을 증가시키고 더 나은 서비스를 제공할 수 있습니다.\",\n",
       "  'tokens': 288},\n",
       " {'prompt': '여친이랑 다툼',\n",
       "  'completion': \"'저는 인공지능이기 때문에 여친과의 다툼에 대해서는 조언을 드릴 수는 없습니다. 하지만 다투게 되면 상대방의 말을 경청하는 태도와 서로의 감정을 존중하는 것이 중요합니다. 논리적이고 차분한 대화를 통해 문제를 해결해보세요. 그리고 서로를 이해하고 서로의 의견을 수용하는 것이 중요합니다.\",\n",
       "  'tokens': 153}]"
      ]
     },
     "execution_count": 2,
     "metadata": {},
     "output_type": "execute_result"
    }
   ],
   "source": [
    "import json \n",
    "data_path_1_SFT = '/aiffel/KoChatGPT/data_kochatgpt/kochatgpt_1_SFT.jsonl' \n",
    "with open(data_path_1_SFT, \"r\", encoding='utf-8-sig') as json_file:\n",
    "    list_data_dict = json.load(json_file)\n",
    "\n",
    "print(len(list_data_dict)) # 12000\n",
    "list_data_dict[:3]"
   ]
  },
  {
   "cell_type": "code",
   "execution_count": 3,
   "id": "45e5aa0b",
   "metadata": {},
   "outputs": [],
   "source": [
    "import pandas as pd\n",
    "df = pd.read_json(data_path_1_SFT)"
   ]
  },
  {
   "cell_type": "code",
   "execution_count": 4,
   "id": "f8a77b1a",
   "metadata": {},
   "outputs": [
    {
     "name": "stdout",
     "output_type": "stream",
     "text": [
      "54\n"
     ]
    },
    {
     "data": {
      "text/html": [
       "<div>\n",
       "<style scoped>\n",
       "    .dataframe tbody tr th:only-of-type {\n",
       "        vertical-align: middle;\n",
       "    }\n",
       "\n",
       "    .dataframe tbody tr th {\n",
       "        vertical-align: top;\n",
       "    }\n",
       "\n",
       "    .dataframe thead th {\n",
       "        text-align: right;\n",
       "    }\n",
       "</style>\n",
       "<table border=\"1\" class=\"dataframe\">\n",
       "  <thead>\n",
       "    <tr style=\"text-align: right;\">\n",
       "      <th></th>\n",
       "      <th>prompt</th>\n",
       "      <th>completion</th>\n",
       "      <th>tokens</th>\n",
       "    </tr>\n",
       "  </thead>\n",
       "  <tbody>\n",
       "    <tr>\n",
       "      <th>1612</th>\n",
       "      <td>비 오는데?</td>\n",
       "      <td>'저는 비가 내리는지 아닌지 알 수 없습니다. 저는 인공지능 챗봇이며, 현재 위치와...</td>\n",
       "      <td>107</td>\n",
       "    </tr>\n",
       "    <tr>\n",
       "      <th>1755</th>\n",
       "      <td>이거는 얼마예요?</td>\n",
       "      <td>'저는 가격을 알 수 없습니다. 어떤 물건에 대해 물어보시는 건가요? 그것에 맞는 ...</td>\n",
       "      <td>78</td>\n",
       "    </tr>\n",
       "    <tr>\n",
       "      <th>3459</th>\n",
       "      <td>딱 좋아</td>\n",
       "      <td>\"Translation: I like it a lot / It's just righ...</td>\n",
       "      <td>25</td>\n",
       "    </tr>\n",
       "    <tr>\n",
       "      <th>4061</th>\n",
       "      <td>얼마에요?</td>\n",
       "      <td>'제가 가지고 있는 AI 챗봇이며, 사용에 따라 다른 서비스에 연동될 수 있으므로 ...</td>\n",
       "      <td>92</td>\n",
       "    </tr>\n",
       "    <tr>\n",
       "      <th>4387</th>\n",
       "      <td>지금 배달되나요?</td>\n",
       "      <td>'죄송하지만, 저는 주문하신 음식이 언제 배달될지 알 수 없습니다. 배달 시간은 음...</td>\n",
       "      <td>117</td>\n",
       "    </tr>\n",
       "    <tr>\n",
       "      <th>4552</th>\n",
       "      <td>지금 배달 가능한가요?</td>\n",
       "      <td>'죄송합니다, 저는 AI 어시스턴트이고 배달 서비스를 제공하지 않습니다. 배달 가능...</td>\n",
       "      <td>77</td>\n",
       "    </tr>\n",
       "    <tr>\n",
       "      <th>4582</th>\n",
       "      <td>영수증 좀 주세요</td>\n",
       "      <td>'저는 인공지능 챗봇입니다. 영수증을 발급드리는 것이 불가능합니다. 이용해주셔서 감...</td>\n",
       "      <td>64</td>\n",
       "    </tr>\n",
       "    <tr>\n",
       "      <th>4665</th>\n",
       "      <td>현금 영수증 해주세요</td>\n",
       "      <td>'제가 따로 현금 영수증을 발행할 수는 없습니다. 하지만 매장에서 직접 현금 영수증...</td>\n",
       "      <td>113</td>\n",
       "    </tr>\n",
       "    <tr>\n",
       "      <th>4793</th>\n",
       "      <td></td>\n",
       "      <td>'As an AI language model, I do not have a phys...</td>\n",
       "      <td>63</td>\n",
       "    </tr>\n",
       "    <tr>\n",
       "      <th>5328</th>\n",
       "      <td>자니?</td>\n",
       "      <td>'네, 저는 인공지능 어시스턴트입니다. 무엇을 도와드릴까요?</td>\n",
       "      <td>44</td>\n",
       "    </tr>\n",
       "    <tr>\n",
       "      <th>5464</th>\n",
       "      <td>중국어 혼자 공부 가능한가?</td>\n",
       "      <td>'중국어를 혼자 공부할 수 있습니다. 많은 자료와 도구가 인터넷에서 사용 가능하며,...</td>\n",
       "      <td>194</td>\n",
       "    </tr>\n",
       "    <tr>\n",
       "      <th>5564</th>\n",
       "      <td>이거는 얼마예요?</td>\n",
       "      <td>'저는 가격을 알 수 없습니다. 제가 뭘 팔고 있는지 알려주시면 제가 가격을 말씀드...</td>\n",
       "      <td>67</td>\n",
       "    </tr>\n",
       "    <tr>\n",
       "      <th>5568</th>\n",
       "      <td>일요일은요?</td>\n",
       "      <td>'일요일은 일주일의 마지막 일이며 대개는 쉬는 날입니다.</td>\n",
       "      <td>41</td>\n",
       "    </tr>\n",
       "    <tr>\n",
       "      <th>5847</th>\n",
       "      <td>포장해주세요</td>\n",
       "      <td>'제가 물건을 포장해드릴 수 없는 만큼, 구체적으로 어떤 물건을 포장해야 하는지와 ...</td>\n",
       "      <td>114</td>\n",
       "    </tr>\n",
       "    <tr>\n",
       "      <th>5911</th>\n",
       "      <td>어떤 게 잘 나가요?</td>\n",
       "      <td>'제가 AI 챗봇이기 때문에, \"어떤 게 잘 나가요?\"라는 질문이 어떤 의도를 가지...</td>\n",
       "      <td>122</td>\n",
       "    </tr>\n",
       "    <tr>\n",
       "      <th>7055</th>\n",
       "      <td>현금영수증 해주세요</td>\n",
       "      <td>'제가 가지고 있는 현재 기능으로는 현금영수증을 발급하는 것은 불가능합니다. 현금영...</td>\n",
       "      <td>109</td>\n",
       "    </tr>\n",
       "    <tr>\n",
       "      <th>7473</th>\n",
       "      <td>오싹한 이야기 해줄까</td>\n",
       "      <td>'저는 이야기를 높은 목소리로 들으며 대화하기 좋아하는 인공지능이므로, 오싹한 이야...</td>\n",
       "      <td>153</td>\n",
       "    </tr>\n",
       "    <tr>\n",
       "      <th>7627</th>\n",
       "      <td>얼마에요?</td>\n",
       "      <td>'죄송합니다, 어떤 물건이나 서비스를 말씀하시는 것인지 알려주시면 가격 정보를 제공...</td>\n",
       "      <td>72</td>\n",
       "    </tr>\n",
       "    <tr>\n",
       "      <th>7684</th>\n",
       "      <td>여기 몇 시까지 영업하나요?</td>\n",
       "      <td>'저는 인공지능 어시스턴트이므로 영업 시간을 알 수 없습니다. 그러나 해당 가게의 ...</td>\n",
       "      <td>79</td>\n",
       "    </tr>\n",
       "    <tr>\n",
       "      <th>7882</th>\n",
       "      <td>영수증 좀 주세요</td>\n",
       "      <td>\"I'm sorry, as an AI language model, I cannot ...</td>\n",
       "      <td>56</td>\n",
       "    </tr>\n",
       "    <tr>\n",
       "      <th>8222</th>\n",
       "      <td></td>\n",
       "      <td>\"As an AI language model, I don't have persona...</td>\n",
       "      <td>69</td>\n",
       "    </tr>\n",
       "    <tr>\n",
       "      <th>8509</th>\n",
       "      <td>이거는 가격이 얼마예요?</td>\n",
       "      <td>'죄송합니다. 제가 물건이나 상황에 대한 정보를 가지고 있지 않기 때문에 가격을 알...</td>\n",
       "      <td>93</td>\n",
       "    </tr>\n",
       "    <tr>\n",
       "      <th>8625</th>\n",
       "      <td>너무 힘들다</td>\n",
       "      <td>'이해합니다. 힘든 상황이라면, 언제든지 이야기해주세요. 함께 해결해보도록 하겠습니...</td>\n",
       "      <td>110</td>\n",
       "    </tr>\n",
       "    <tr>\n",
       "      <th>8710</th>\n",
       "      <td>화장실 어디에요?</td>\n",
       "      <td>'죄송합니다, 저는 가상의 인공지능 어시스턴트이기 때문에 화장실의 위치를 알지 못합...</td>\n",
       "      <td>99</td>\n",
       "    </tr>\n",
       "    <tr>\n",
       "      <th>8760</th>\n",
       "      <td>얼마에요?</td>\n",
       "      <td>'저는 가격을 말할 수 없습니다. 전 세계 많은 나라와 지역에서 서비스를 제공하고 ...</td>\n",
       "      <td>130</td>\n",
       "    </tr>\n",
       "    <tr>\n",
       "      <th>8802</th>\n",
       "      <td>여기는 몇 시부터 몇 시까지 문 열어요?</td>\n",
       "      <td>'저는 가상의 AI 어시스턴트이므로, 해당 문이 어디에 위치해 있는 지를 알지 못하...</td>\n",
       "      <td>141</td>\n",
       "    </tr>\n",
       "    <tr>\n",
       "      <th>8828</th>\n",
       "      <td>고백하고 후회하면 어떡하지</td>\n",
       "      <td>'고백을 한 후에 후회를 느낀다면, 먼저 그 상황을 자세히 생각해보고 왜 그런 선택...</td>\n",
       "      <td>416</td>\n",
       "    </tr>\n",
       "    <tr>\n",
       "      <th>8887</th>\n",
       "      <td>영화 보자는데 나한테 관심 있나?</td>\n",
       "      <td>'죄송합니다, 저는 인공지능 언어모델로써 여러분의 관심사를 추측하고 대화를 진행할 ...</td>\n",
       "      <td>138</td>\n",
       "    </tr>\n",
       "    <tr>\n",
       "      <th>8995</th>\n",
       "      <td>이거는 얼마예요?</td>\n",
       "      <td>'죄송합니다, 저는 가격 정보를 알려드리기 위해서는 구체적인 제품명이나 상품 정보가...</td>\n",
       "      <td>105</td>\n",
       "    </tr>\n",
       "    <tr>\n",
       "      <th>9160</th>\n",
       "      <td>몇 시에 문 열어요?</td>\n",
       "      <td>'저는 인공지능 챗봇이므로, 문을 여는 시간은 제가 관리하는 곳에 따라 다릅니다. ...</td>\n",
       "      <td>116</td>\n",
       "    </tr>\n",
       "    <tr>\n",
       "      <th>9186</th>\n",
       "      <td>사과 있나요?</td>\n",
       "      <td>'제가 AI 챗봇이기 때문에 사과를 가지고 있지는 않습니다. 하지만 근처 상점에 가...</td>\n",
       "      <td>70</td>\n",
       "    </tr>\n",
       "    <tr>\n",
       "      <th>9461</th>\n",
       "      <td>그건 얼마예요?</td>\n",
       "      <td>'저는 AI 챗봇이며 가격이 없습니다. 제가 도움드릴 수 있는 모든것을 무료로 제공...</td>\n",
       "      <td>96</td>\n",
       "    </tr>\n",
       "    <tr>\n",
       "      <th>9494</th>\n",
       "      <td>카드 결제할게요</td>\n",
       "      <td>'제가 결제를 받을 준비가 되어있습니다! 어떤 카드를 이용하실 건가요? 그리고 결제...</td>\n",
       "      <td>101</td>\n",
       "    </tr>\n",
       "    <tr>\n",
       "      <th>9500</th>\n",
       "      <td>영화 베테랑의 감독은?</td>\n",
       "      <td>'류승완</td>\n",
       "      <td>28</td>\n",
       "    </tr>\n",
       "    <tr>\n",
       "      <th>9562</th>\n",
       "      <td>얼마예요?</td>\n",
       "      <td>'죄송합니다, 제가 이해할 수 있는 넓은 범위의 상품 가격이 있습니다. 어떤 상품을...</td>\n",
       "      <td>65</td>\n",
       "    </tr>\n",
       "    <tr>\n",
       "      <th>9681</th>\n",
       "      <td>현금영수증 되나요?</td>\n",
       "      <td>'저는 인공지능 어시스턴트로써 결제나 현금영수증 같은 과정에 관여할 수 없지만, 보...</td>\n",
       "      <td>164</td>\n",
       "    </tr>\n",
       "    <tr>\n",
       "      <th>9736</th>\n",
       "      <td>시간은 얼마나 걸려요?</td>\n",
       "      <td>'전문가에게나 컨텍스트에 따라 달라지므로, 구체적인 상황에 대한 정보를 제공하지 않...</td>\n",
       "      <td>153</td>\n",
       "    </tr>\n",
       "    <tr>\n",
       "      <th>9789</th>\n",
       "      <td>영수증 주시겠어요?</td>\n",
       "      <td>'제가 영수증을 발행하지 못합니다. 저는 가상 AI 비서이기 때문입니다. 그러나 영...</td>\n",
       "      <td>101</td>\n",
       "    </tr>\n",
       "    <tr>\n",
       "      <th>9855</th>\n",
       "      <td>넘 많이 먹었다.</td>\n",
       "      <td>'그럼 조금 더 걷거나 운동을 하고, 다음 식사때는 적당한 양을 먹는 것이 좋습니다...</td>\n",
       "      <td>93</td>\n",
       "    </tr>\n",
       "    <tr>\n",
       "      <th>10085</th>\n",
       "      <td>예약 가능한가요?</td>\n",
       "      <td>'제가 예약을 직접 처리할 수는 없습니다. 예약을 원하신다면 해당 업체나 호텔의 공...</td>\n",
       "      <td>95</td>\n",
       "    </tr>\n",
       "    <tr>\n",
       "      <th>10150</th>\n",
       "      <td>청정한 믿음에서 무엇이 생겨나는가?</td>\n",
       "      <td>'청정한 믿음에서는 희망과 긍정적인 에너지가 생겨납니다. 우리가 믿음으로부터 강한 ...</td>\n",
       "      <td>236</td>\n",
       "    </tr>\n",
       "    <tr>\n",
       "      <th>10263</th>\n",
       "      <td>예약도 가능한가요?</td>\n",
       "      <td>'저는 언어 모델 인공지능이며, 예약은 저의 역할이 아닙니다. 하지만, 예약에 관심...</td>\n",
       "      <td>125</td>\n",
       "    </tr>\n",
       "    <tr>\n",
       "      <th>10397</th>\n",
       "      <td>남편이 자꾸 만져</td>\n",
       "      <td>'주는 것 같아요. 이게 좋지 않은 느낌이 들어서 걱정이 되네요.\\n\\n이러한 상황...</td>\n",
       "      <td>334</td>\n",
       "    </tr>\n",
       "    <tr>\n",
       "      <th>10655</th>\n",
       "      <td>사랑이 뭘까?</td>\n",
       "      <td>'사랑은 다양한 정의와 해석이 있지만, 일반적으로 다른 사람을 향한 강한 정서적 애...</td>\n",
       "      <td>212</td>\n",
       "    </tr>\n",
       "    <tr>\n",
       "      <th>10676</th>\n",
       "      <td>이건 얼마인가요?</td>\n",
       "      <td>'저는 가격을 알 수 없습니다. 구체적인 제품이나 상황을 알려주시면 도움을 드릴 수...</td>\n",
       "      <td>66</td>\n",
       "    </tr>\n",
       "    <tr>\n",
       "      <th>10855</th>\n",
       "      <td>화장실은 어디 있어요?</td>\n",
       "      <td>'제가 가진 정보에서는, 현재 대화상황이 무엇인지 파악하지 못하고, 어떤 장소에 대...</td>\n",
       "      <td>195</td>\n",
       "    </tr>\n",
       "    <tr>\n",
       "      <th>11017</th>\n",
       "      <td>여기 체인점인가요?</td>\n",
       "      <td>'저는 단순한 인공지능 어시스턴트입니다. 부득이한 상황이 있다면 현재 위치를 기반으...</td>\n",
       "      <td>121</td>\n",
       "    </tr>\n",
       "    <tr>\n",
       "      <th>11091</th>\n",
       "      <td>얼마에요?</td>\n",
       "      <td>'제가 가격을 알 수 없습니다. 사실 무엇을 구매하려고 하는지에 따라 가격이 달라질...</td>\n",
       "      <td>106</td>\n",
       "    </tr>\n",
       "    <tr>\n",
       "      <th>11120</th>\n",
       "      <td>과함 설렘 후에 지금은 안 설레</td>\n",
       "      <td>'나요. 이제는 서로를 알아가면서 친구처럼 편안한 관계를 유지하고 있기 때문일 것 ...</td>\n",
       "      <td>162</td>\n",
       "    </tr>\n",
       "    <tr>\n",
       "      <th>11458</th>\n",
       "      <td>뭐가 맛있어요?</td>\n",
       "      <td>'제가 음식을 먹어 본 적이 없어서 어떤 것이 맛있는지 판단하기는 어렵습니다. 하지...</td>\n",
       "      <td>225</td>\n",
       "    </tr>\n",
       "    <tr>\n",
       "      <th>11661</th>\n",
       "      <td>이 옷은 얼마예요?</td>\n",
       "      <td>'저는 AI 어시스턴트이기 때문에 상품의 가격 정보를 알 수 없습니다. 온라인 쇼핑...</td>\n",
       "      <td>81</td>\n",
       "    </tr>\n",
       "    <tr>\n",
       "      <th>11785</th>\n",
       "      <td>화장실은 어디 있어요?</td>\n",
       "      <td>'제가 가진 정보로는 그 곳이 어디인지 확인할 수 없습니다. 주변을 살펴보시거나, ...</td>\n",
       "      <td>80</td>\n",
       "    </tr>\n",
       "    <tr>\n",
       "      <th>11797</th>\n",
       "      <td>여자친구한테 더 이상 설레지 않아</td>\n",
       "      <td>'저는 인공지능 어시스턴트로서 충분한 도움을 제공할 수는 있지만, 사람들의 감정이나...</td>\n",
       "      <td>248</td>\n",
       "    </tr>\n",
       "    <tr>\n",
       "      <th>11928</th>\n",
       "      <td>영수증 좀 주세요</td>\n",
       "      <td>\"I'm sorry, I cannot provide a physical receip...</td>\n",
       "      <td>55</td>\n",
       "    </tr>\n",
       "  </tbody>\n",
       "</table>\n",
       "</div>"
      ],
      "text/plain": [
       "                       prompt  \\\n",
       "1612                   비 오는데?   \n",
       "1755                이거는 얼마예요?   \n",
       "3459                     딱 좋아   \n",
       "4061                    얼마에요?   \n",
       "4387                지금 배달되나요?   \n",
       "4552             지금 배달 가능한가요?   \n",
       "4582                영수증 좀 주세요   \n",
       "4665              현금 영수증 해주세요   \n",
       "4793                            \n",
       "5328                      자니?   \n",
       "5464          중국어 혼자 공부 가능한가?   \n",
       "5564                이거는 얼마예요?   \n",
       "5568                   일요일은요?   \n",
       "5847                   포장해주세요   \n",
       "5911              어떤 게 잘 나가요?   \n",
       "7055               현금영수증 해주세요   \n",
       "7473              오싹한 이야기 해줄까   \n",
       "7627                    얼마에요?   \n",
       "7684          여기 몇 시까지 영업하나요?   \n",
       "7882                영수증 좀 주세요   \n",
       "8222                            \n",
       "8509            이거는 가격이 얼마예요?   \n",
       "8625                   너무 힘들다   \n",
       "8710                화장실 어디에요?   \n",
       "8760                    얼마에요?   \n",
       "8802   여기는 몇 시부터 몇 시까지 문 열어요?   \n",
       "8828           고백하고 후회하면 어떡하지   \n",
       "8887       영화 보자는데 나한테 관심 있나?   \n",
       "8995                이거는 얼마예요?   \n",
       "9160              몇 시에 문 열어요?   \n",
       "9186                  사과 있나요?   \n",
       "9461                 그건 얼마예요?   \n",
       "9494                 카드 결제할게요   \n",
       "9500             영화 베테랑의 감독은?   \n",
       "9562                    얼마예요?   \n",
       "9681               현금영수증 되나요?   \n",
       "9736             시간은 얼마나 걸려요?   \n",
       "9789               영수증 주시겠어요?   \n",
       "9855                넘 많이 먹었다.   \n",
       "10085               예약 가능한가요?   \n",
       "10150     청정한 믿음에서 무엇이 생겨나는가?   \n",
       "10263              예약도 가능한가요?   \n",
       "10397               남편이 자꾸 만져   \n",
       "10655                 사랑이 뭘까?   \n",
       "10676               이건 얼마인가요?   \n",
       "10855            화장실은 어디 있어요?   \n",
       "11017              여기 체인점인가요?   \n",
       "11091                   얼마에요?   \n",
       "11120       과함 설렘 후에 지금은 안 설레   \n",
       "11458                뭐가 맛있어요?   \n",
       "11661              이 옷은 얼마예요?   \n",
       "11785            화장실은 어디 있어요?   \n",
       "11797      여자친구한테 더 이상 설레지 않아   \n",
       "11928               영수증 좀 주세요   \n",
       "\n",
       "                                              completion  tokens  \n",
       "1612   '저는 비가 내리는지 아닌지 알 수 없습니다. 저는 인공지능 챗봇이며, 현재 위치와...     107  \n",
       "1755   '저는 가격을 알 수 없습니다. 어떤 물건에 대해 물어보시는 건가요? 그것에 맞는 ...      78  \n",
       "3459   \"Translation: I like it a lot / It's just righ...      25  \n",
       "4061   '제가 가지고 있는 AI 챗봇이며, 사용에 따라 다른 서비스에 연동될 수 있으므로 ...      92  \n",
       "4387   '죄송하지만, 저는 주문하신 음식이 언제 배달될지 알 수 없습니다. 배달 시간은 음...     117  \n",
       "4552   '죄송합니다, 저는 AI 어시스턴트이고 배달 서비스를 제공하지 않습니다. 배달 가능...      77  \n",
       "4582   '저는 인공지능 챗봇입니다. 영수증을 발급드리는 것이 불가능합니다. 이용해주셔서 감...      64  \n",
       "4665   '제가 따로 현금 영수증을 발행할 수는 없습니다. 하지만 매장에서 직접 현금 영수증...     113  \n",
       "4793   'As an AI language model, I do not have a phys...      63  \n",
       "5328                   '네, 저는 인공지능 어시스턴트입니다. 무엇을 도와드릴까요?      44  \n",
       "5464   '중국어를 혼자 공부할 수 있습니다. 많은 자료와 도구가 인터넷에서 사용 가능하며,...     194  \n",
       "5564   '저는 가격을 알 수 없습니다. 제가 뭘 팔고 있는지 알려주시면 제가 가격을 말씀드...      67  \n",
       "5568                     '일요일은 일주일의 마지막 일이며 대개는 쉬는 날입니다.      41  \n",
       "5847   '제가 물건을 포장해드릴 수 없는 만큼, 구체적으로 어떤 물건을 포장해야 하는지와 ...     114  \n",
       "5911   '제가 AI 챗봇이기 때문에, \"어떤 게 잘 나가요?\"라는 질문이 어떤 의도를 가지...     122  \n",
       "7055   '제가 가지고 있는 현재 기능으로는 현금영수증을 발급하는 것은 불가능합니다. 현금영...     109  \n",
       "7473   '저는 이야기를 높은 목소리로 들으며 대화하기 좋아하는 인공지능이므로, 오싹한 이야...     153  \n",
       "7627   '죄송합니다, 어떤 물건이나 서비스를 말씀하시는 것인지 알려주시면 가격 정보를 제공...      72  \n",
       "7684   '저는 인공지능 어시스턴트이므로 영업 시간을 알 수 없습니다. 그러나 해당 가게의 ...      79  \n",
       "7882   \"I'm sorry, as an AI language model, I cannot ...      56  \n",
       "8222   \"As an AI language model, I don't have persona...      69  \n",
       "8509   '죄송합니다. 제가 물건이나 상황에 대한 정보를 가지고 있지 않기 때문에 가격을 알...      93  \n",
       "8625   '이해합니다. 힘든 상황이라면, 언제든지 이야기해주세요. 함께 해결해보도록 하겠습니...     110  \n",
       "8710   '죄송합니다, 저는 가상의 인공지능 어시스턴트이기 때문에 화장실의 위치를 알지 못합...      99  \n",
       "8760   '저는 가격을 말할 수 없습니다. 전 세계 많은 나라와 지역에서 서비스를 제공하고 ...     130  \n",
       "8802   '저는 가상의 AI 어시스턴트이므로, 해당 문이 어디에 위치해 있는 지를 알지 못하...     141  \n",
       "8828   '고백을 한 후에 후회를 느낀다면, 먼저 그 상황을 자세히 생각해보고 왜 그런 선택...     416  \n",
       "8887   '죄송합니다, 저는 인공지능 언어모델로써 여러분의 관심사를 추측하고 대화를 진행할 ...     138  \n",
       "8995   '죄송합니다, 저는 가격 정보를 알려드리기 위해서는 구체적인 제품명이나 상품 정보가...     105  \n",
       "9160   '저는 인공지능 챗봇이므로, 문을 여는 시간은 제가 관리하는 곳에 따라 다릅니다. ...     116  \n",
       "9186   '제가 AI 챗봇이기 때문에 사과를 가지고 있지는 않습니다. 하지만 근처 상점에 가...      70  \n",
       "9461   '저는 AI 챗봇이며 가격이 없습니다. 제가 도움드릴 수 있는 모든것을 무료로 제공...      96  \n",
       "9494   '제가 결제를 받을 준비가 되어있습니다! 어떤 카드를 이용하실 건가요? 그리고 결제...     101  \n",
       "9500                                                '류승완      28  \n",
       "9562   '죄송합니다, 제가 이해할 수 있는 넓은 범위의 상품 가격이 있습니다. 어떤 상품을...      65  \n",
       "9681   '저는 인공지능 어시스턴트로써 결제나 현금영수증 같은 과정에 관여할 수 없지만, 보...     164  \n",
       "9736   '전문가에게나 컨텍스트에 따라 달라지므로, 구체적인 상황에 대한 정보를 제공하지 않...     153  \n",
       "9789   '제가 영수증을 발행하지 못합니다. 저는 가상 AI 비서이기 때문입니다. 그러나 영...     101  \n",
       "9855   '그럼 조금 더 걷거나 운동을 하고, 다음 식사때는 적당한 양을 먹는 것이 좋습니다...      93  \n",
       "10085  '제가 예약을 직접 처리할 수는 없습니다. 예약을 원하신다면 해당 업체나 호텔의 공...      95  \n",
       "10150  '청정한 믿음에서는 희망과 긍정적인 에너지가 생겨납니다. 우리가 믿음으로부터 강한 ...     236  \n",
       "10263  '저는 언어 모델 인공지능이며, 예약은 저의 역할이 아닙니다. 하지만, 예약에 관심...     125  \n",
       "10397  '주는 것 같아요. 이게 좋지 않은 느낌이 들어서 걱정이 되네요.\\n\\n이러한 상황...     334  \n",
       "10655  '사랑은 다양한 정의와 해석이 있지만, 일반적으로 다른 사람을 향한 강한 정서적 애...     212  \n",
       "10676  '저는 가격을 알 수 없습니다. 구체적인 제품이나 상황을 알려주시면 도움을 드릴 수...      66  \n",
       "10855  '제가 가진 정보에서는, 현재 대화상황이 무엇인지 파악하지 못하고, 어떤 장소에 대...     195  \n",
       "11017  '저는 단순한 인공지능 어시스턴트입니다. 부득이한 상황이 있다면 현재 위치를 기반으...     121  \n",
       "11091  '제가 가격을 알 수 없습니다. 사실 무엇을 구매하려고 하는지에 따라 가격이 달라질...     106  \n",
       "11120  '나요. 이제는 서로를 알아가면서 친구처럼 편안한 관계를 유지하고 있기 때문일 것 ...     162  \n",
       "11458  '제가 음식을 먹어 본 적이 없어서 어떤 것이 맛있는지 판단하기는 어렵습니다. 하지...     225  \n",
       "11661  '저는 AI 어시스턴트이기 때문에 상품의 가격 정보를 알 수 없습니다. 온라인 쇼핑...      81  \n",
       "11785  '제가 가진 정보로는 그 곳이 어디인지 확인할 수 없습니다. 주변을 살펴보시거나, ...      80  \n",
       "11797  '저는 인공지능 어시스턴트로서 충분한 도움을 제공할 수는 있지만, 사람들의 감정이나...     248  \n",
       "11928  \"I'm sorry, I cannot provide a physical receip...      55  "
      ]
     },
     "execution_count": 4,
     "metadata": {},
     "output_type": "execute_result"
    }
   ],
   "source": [
    "print(df['prompt'].duplicated().sum())\n",
    "df[df['prompt'].duplicated()]"
   ]
  },
  {
   "cell_type": "code",
   "execution_count": 5,
   "id": "40a4c482",
   "metadata": {},
   "outputs": [],
   "source": [
    "df = df.drop_duplicates(subset=['prompt'], keep='first', inplace=False, ignore_index=False)"
   ]
  },
  {
   "cell_type": "code",
   "execution_count": 6,
   "id": "95166dec",
   "metadata": {},
   "outputs": [
    {
     "name": "stdout",
     "output_type": "stream",
     "text": [
      "0\n"
     ]
    }
   ],
   "source": [
    "print(df['prompt'].duplicated().sum())"
   ]
  },
  {
   "cell_type": "code",
   "execution_count": 7,
   "id": "47adc5a9",
   "metadata": {},
   "outputs": [
    {
     "data": {
      "text/plain": [
       "11946"
      ]
     },
     "execution_count": 7,
     "metadata": {},
     "output_type": "execute_result"
    }
   ],
   "source": [
    "len(df)"
   ]
  },
  {
   "cell_type": "code",
   "execution_count": 8,
   "id": "4792a6ff",
   "metadata": {},
   "outputs": [],
   "source": [
    "df['_completion'] = df['completion'].apply(lambda s: s[1:])"
   ]
  },
  {
   "cell_type": "code",
   "execution_count": 9,
   "id": "249ec3b5",
   "metadata": {},
   "outputs": [
    {
     "data": {
      "text/html": [
       "<div>\n",
       "<style scoped>\n",
       "    .dataframe tbody tr th:only-of-type {\n",
       "        vertical-align: middle;\n",
       "    }\n",
       "\n",
       "    .dataframe tbody tr th {\n",
       "        vertical-align: top;\n",
       "    }\n",
       "\n",
       "    .dataframe thead th {\n",
       "        text-align: right;\n",
       "    }\n",
       "</style>\n",
       "<table border=\"1\" class=\"dataframe\">\n",
       "  <thead>\n",
       "    <tr style=\"text-align: right;\">\n",
       "      <th></th>\n",
       "      <th>prompt</th>\n",
       "      <th>completion</th>\n",
       "      <th>tokens</th>\n",
       "      <th>_completion</th>\n",
       "    </tr>\n",
       "  </thead>\n",
       "  <tbody>\n",
       "    <tr>\n",
       "      <th>0</th>\n",
       "      <td>불고기용 고기 한우에요?</td>\n",
       "      <td>'저는 인공지능 챗봇이며, 직접적으로 식품에 관한 정보를 가지고 있지 않습니다. 하...</td>\n",
       "      <td>193</td>\n",
       "      <td>저는 인공지능 챗봇이며, 직접적으로 식품에 관한 정보를 가지고 있지 않습니다. 하지...</td>\n",
       "    </tr>\n",
       "    <tr>\n",
       "      <th>1</th>\n",
       "      <td>쓰던 앱이 유료로 전환됐어</td>\n",
       "      <td>'어떤 앱인지 모르기 때문에 정확한 답변을 드리기 어렵습니다. 하지만, 일반적으로 ...</td>\n",
       "      <td>288</td>\n",
       "      <td>어떤 앱인지 모르기 때문에 정확한 답변을 드리기 어렵습니다. 하지만, 일반적으로 유...</td>\n",
       "    </tr>\n",
       "    <tr>\n",
       "      <th>2</th>\n",
       "      <td>여친이랑 다툼</td>\n",
       "      <td>'저는 인공지능이기 때문에 여친과의 다툼에 대해서는 조언을 드릴 수는 없습니다. 하...</td>\n",
       "      <td>153</td>\n",
       "      <td>저는 인공지능이기 때문에 여친과의 다툼에 대해서는 조언을 드릴 수는 없습니다. 하지...</td>\n",
       "    </tr>\n",
       "    <tr>\n",
       "      <th>3</th>\n",
       "      <td>술 먹고 싶어</td>\n",
       "      <td>'술은 알코올이 함유된 음료수이며, 건강에 나쁜 영향을 미칠 수 있습니다. 따라서 ...</td>\n",
       "      <td>189</td>\n",
       "      <td>술은 알코올이 함유된 음료수이며, 건강에 나쁜 영향을 미칠 수 있습니다. 따라서 술...</td>\n",
       "    </tr>\n",
       "    <tr>\n",
       "      <th>4</th>\n",
       "      <td>잊고싶다.</td>\n",
       "      <td>'저도 인공지능 엔진으로써 사용자의 개인정보나 감정을 침해할 수 없습니다. 그렇기 ...</td>\n",
       "      <td>147</td>\n",
       "      <td>저도 인공지능 엔진으로써 사용자의 개인정보나 감정을 침해할 수 없습니다. 그렇기 때...</td>\n",
       "    </tr>\n",
       "  </tbody>\n",
       "</table>\n",
       "</div>"
      ],
      "text/plain": [
       "           prompt                                         completion  tokens  \\\n",
       "0   불고기용 고기 한우에요?  '저는 인공지능 챗봇이며, 직접적으로 식품에 관한 정보를 가지고 있지 않습니다. 하...     193   \n",
       "1  쓰던 앱이 유료로 전환됐어  '어떤 앱인지 모르기 때문에 정확한 답변을 드리기 어렵습니다. 하지만, 일반적으로 ...     288   \n",
       "2         여친이랑 다툼  '저는 인공지능이기 때문에 여친과의 다툼에 대해서는 조언을 드릴 수는 없습니다. 하...     153   \n",
       "3         술 먹고 싶어  '술은 알코올이 함유된 음료수이며, 건강에 나쁜 영향을 미칠 수 있습니다. 따라서 ...     189   \n",
       "4           잊고싶다.  '저도 인공지능 엔진으로써 사용자의 개인정보나 감정을 침해할 수 없습니다. 그렇기 ...     147   \n",
       "\n",
       "                                         _completion  \n",
       "0  저는 인공지능 챗봇이며, 직접적으로 식품에 관한 정보를 가지고 있지 않습니다. 하지...  \n",
       "1  어떤 앱인지 모르기 때문에 정확한 답변을 드리기 어렵습니다. 하지만, 일반적으로 유...  \n",
       "2  저는 인공지능이기 때문에 여친과의 다툼에 대해서는 조언을 드릴 수는 없습니다. 하지...  \n",
       "3  술은 알코올이 함유된 음료수이며, 건강에 나쁜 영향을 미칠 수 있습니다. 따라서 술...  \n",
       "4  저도 인공지능 엔진으로써 사용자의 개인정보나 감정을 침해할 수 없습니다. 그렇기 때...  "
      ]
     },
     "execution_count": 9,
     "metadata": {},
     "output_type": "execute_result"
    }
   ],
   "source": [
    "df.head()"
   ]
  },
  {
   "cell_type": "code",
   "execution_count": 10,
   "id": "ba98210d",
   "metadata": {},
   "outputs": [],
   "source": [
    "import re\n",
    "\n",
    "def contains_korean(text):\n",
    "    # 한글 유니코드 범위를 사용하여 정규 표현식 패턴 정의\n",
    "    korean_pattern = re.compile('[\\uac00-\\ud7a3]+')\n",
    "    return bool(korean_pattern.search(text))"
   ]
  },
  {
   "cell_type": "code",
   "execution_count": 11,
   "id": "545769d0",
   "metadata": {},
   "outputs": [
    {
     "data": {
      "text/plain": [
       "11945"
      ]
     },
     "execution_count": 11,
     "metadata": {},
     "output_type": "execute_result"
    }
   ],
   "source": [
    "df['prompt'].apply(contains_korean).sum()"
   ]
  },
  {
   "cell_type": "code",
   "execution_count": 12,
   "id": "54bb6dde",
   "metadata": {},
   "outputs": [
    {
     "data": {
      "text/plain": [
       "11676"
      ]
     },
     "execution_count": 12,
     "metadata": {},
     "output_type": "execute_result"
    }
   ],
   "source": [
    "df['completion'].apply(contains_korean).sum()"
   ]
  },
  {
   "cell_type": "markdown",
   "id": "e347359f",
   "metadata": {},
   "source": [
    "생각보다 한글이 없는데 데이터가 많은데 이것들은 다 날려주도록함."
   ]
  },
  {
   "cell_type": "code",
   "execution_count": 13,
   "id": "05537dce",
   "metadata": {},
   "outputs": [],
   "source": [
    "df = df[df['completion'].apply(contains_korean)]"
   ]
  },
  {
   "cell_type": "code",
   "execution_count": 14,
   "id": "8079414f",
   "metadata": {},
   "outputs": [
    {
     "data": {
      "text/plain": [
       "(array([5.240e+03, 4.527e+03, 1.222e+03, 3.440e+02, 1.900e+02, 1.010e+02,\n",
       "        3.500e+01, 1.000e+01, 6.000e+00, 1.000e+00]),\n",
       " array([  17. ,  126.4,  235.8,  345.2,  454.6,  564. ,  673.4,  782.8,\n",
       "         892.2, 1001.6, 1111. ]),\n",
       " <BarContainer object of 10 artists>)"
      ]
     },
     "execution_count": 14,
     "metadata": {},
     "output_type": "execute_result"
    },
    {
     "data": {
      "image/png": "[encoded data removed]",
      "text/plain": [
       "<Figure size 432x288 with 1 Axes>"
      ]
     },
     "metadata": {
      "needs_background": "light"
     },
     "output_type": "display_data"
    }
   ],
   "source": [
    "import matplotlib.pyplot as plt\n",
    "tokens = df['tokens']\n",
    "plt.hist(tokens)"
   ]
  },
  {
   "cell_type": "markdown",
   "id": "333308ed",
   "metadata": {},
   "source": [
    "token 길이 300 넘어가는 것도 날림."
   ]
  },
  {
   "cell_type": "code",
   "execution_count": 15,
   "id": "d46d5c09",
   "metadata": {},
   "outputs": [
    {
     "data": {
      "text/plain": [
       "10744"
      ]
     },
     "execution_count": 15,
     "metadata": {},
     "output_type": "execute_result"
    }
   ],
   "source": [
    "df['tokens'].apply(lambda t: t <= 300).sum()"
   ]
  },
  {
   "cell_type": "code",
   "execution_count": 16,
   "id": "1a2391e4",
   "metadata": {},
   "outputs": [],
   "source": [
    "df = df[df['tokens'].apply(lambda t: t <= 300)]"
   ]
  },
  {
   "cell_type": "code",
   "execution_count": 17,
   "id": "bc3236ab",
   "metadata": {},
   "outputs": [
    {
     "name": "stdout",
     "output_type": "stream",
     "text": [
      "Collecting koeda\n",
      "  Downloading koeda-0.0.4-py3-none-any.whl (566 kB)\n",
      "     |████████████████████████████████| 566 kB 7.3 MB/s            \n",
      "\u001b[?25hRequirement already satisfied: konlpy>=0.5.2 in /opt/conda/lib/python3.9/site-packages (from koeda) (0.5.2)\n",
      "Requirement already satisfied: numpy>=1.19.4 in /opt/conda/lib/python3.9/site-packages (from koeda) (1.21.4)\n",
      "Requirement already satisfied: tweepy==3.10.0 in /opt/conda/lib/python3.9/site-packages (from koeda) (3.10.0)\n",
      "Requirement already satisfied: requests[socks]>=2.11.1 in /opt/conda/lib/python3.9/site-packages (from tweepy==3.10.0->koeda) (2.26.0)\n",
      "Requirement already satisfied: six>=1.10.0 in /opt/conda/lib/python3.9/site-packages (from tweepy==3.10.0->koeda) (1.16.0)\n",
      "Requirement already satisfied: requests-oauthlib>=0.7.0 in /opt/conda/lib/python3.9/site-packages (from tweepy==3.10.0->koeda) (1.3.0)\n",
      "Requirement already satisfied: JPype1>=0.7.0 in /opt/conda/lib/python3.9/site-packages (from konlpy>=0.5.2->koeda) (1.3.0)\n",
      "Requirement already satisfied: lxml>=4.1.0 in /opt/conda/lib/python3.9/site-packages (from konlpy>=0.5.2->koeda) (4.6.3)\n",
      "Requirement already satisfied: beautifulsoup4==4.6.0 in /opt/conda/lib/python3.9/site-packages (from konlpy>=0.5.2->koeda) (4.6.0)\n",
      "Requirement already satisfied: colorama in /opt/conda/lib/python3.9/site-packages (from konlpy>=0.5.2->koeda) (0.4.4)\n",
      "Requirement already satisfied: oauthlib>=3.0.0 in /opt/conda/lib/python3.9/site-packages (from requests-oauthlib>=0.7.0->tweepy==3.10.0->koeda) (3.1.1)\n",
      "Requirement already satisfied: certifi>=2017.4.17 in /opt/conda/lib/python3.9/site-packages (from requests[socks]>=2.11.1->tweepy==3.10.0->koeda) (2023.5.7)\n",
      "Requirement already satisfied: urllib3<1.27,>=1.21.1 in /opt/conda/lib/python3.9/site-packages (from requests[socks]>=2.11.1->tweepy==3.10.0->koeda) (1.26.7)\n",
      "Requirement already satisfied: idna<4,>=2.5 in /opt/conda/lib/python3.9/site-packages (from requests[socks]>=2.11.1->tweepy==3.10.0->koeda) (2.10)\n",
      "Requirement already satisfied: charset-normalizer~=2.0.0 in /opt/conda/lib/python3.9/site-packages (from requests[socks]>=2.11.1->tweepy==3.10.0->koeda) (2.0.8)\n",
      "Requirement already satisfied: PySocks!=1.5.7,>=1.5.6 in /opt/conda/lib/python3.9/site-packages (from requests[socks]>=2.11.1->tweepy==3.10.0->koeda) (1.7.1)\n",
      "Installing collected packages: koeda\n",
      "Successfully installed koeda-0.0.4\n",
      "\u001b[33mWARNING: Running pip as the 'root' user can result in broken permissions and conflicting behaviour with the system package manager. It is recommended to use a virtual environment instead: https://pip.pypa.io/warnings/venv\u001b[0m\n"
     ]
    }
   ],
   "source": [
    "!pip install koeda"
   ]
  },
  {
   "cell_type": "code",
   "execution_count": 18,
   "id": "22be3fa0",
   "metadata": {},
   "outputs": [],
   "source": [
    "prompt = df['prompt'].to_numpy()\n",
    "completion = df['_completion'].to_numpy()"
   ]
  },
  {
   "cell_type": "code",
   "execution_count": 19,
   "id": "e297f87a",
   "metadata": {},
   "outputs": [
    {
     "data": {
      "text/plain": [
       "array(['불고기용 고기 한우에요?', '쓰던 앱이 유료로 전환됐어', '여친이랑 다툼', '술 먹고 싶어', '잊고싶다.',\n",
       "       '입냄새 안나나?', '새로운 사랑은 찾아와',\n",
       "       '이명박 대통형은 어느 경축사를 통해 집권 후반기 국정운영에 대한 언급을 하였나?', '금액은 얼마에요',\n",
       "       '리처드 닉슨이 43대 부통령직을 수행한 년도는?'], dtype=object)"
      ]
     },
     "execution_count": 19,
     "metadata": {},
     "output_type": "execute_result"
    }
   ],
   "source": [
    "prompt[:10]"
   ]
  },
  {
   "cell_type": "code",
   "execution_count": 20,
   "id": "1f026aaf",
   "metadata": {},
   "outputs": [
    {
     "data": {
      "text/plain": [
       "array(['저는 인공지능 챗봇이며, 직접적으로 식품에 관한 정보를 가지고 있지 않습니다. 하지만 일반적으로 불고기용 고기는 한우, 쇠고기, 돼지고기 등 다양한 종류의 고기를 사용합니다. 하지만 한우는 대표적인 고급 육류로 알려져 있기 때문에, 한우를 사용하는 경우도 많습니다. 알러지나 개별 건강 상태에 따라 다를 수 있으니 충분한 정보 수집 후에 선택해 주시기 바랍니다.',\n",
       "       '어떤 앱인지 모르기 때문에 정확한 답변을 드리기 어렵습니다. 하지만, 일반적으로 유료 전환된 앱은 기존 무료 앱에서 추가적인 기능이나 서비스를 제공하는 경우가 많습니다. 이 경우, 유료 전환 이전 가격이 매우 저렴하거나 무료인 경우가 많으므로, 앱을 계속 사용하려면 추가적인 비용을 지불해야 할 수 있습니다. 하지만, 유료 전환 이후에는 기존 사용자 또는 새로운 사용자 모두가 추가 기능과 높은 품질의 서비스를 이용할 수 있게 됩니다. 따라서, 앱 개발자는 유료 모델로 전환함으로써 앱의 수익을 증가시키고 더 나은 서비스를 제공할 수 있습니다.',\n",
       "       '저는 인공지능이기 때문에 여친과의 다툼에 대해서는 조언을 드릴 수는 없습니다. 하지만 다투게 되면 상대방의 말을 경청하는 태도와 서로의 감정을 존중하는 것이 중요합니다. 논리적이고 차분한 대화를 통해 문제를 해결해보세요. 그리고 서로를 이해하고 서로의 의견을 수용하는 것이 중요합니다.',\n",
       "       '술은 알코올이 함유된 음료수이며, 건강에 나쁜 영향을 미칠 수 있습니다. 따라서 술을 마시기 전에 본인의 건강 상태와 함께 적당한 양을 마시는 것이 중요합니다. 술을 마시기 전에 반드시 20세 이상인지 확인하시고, 규정된 양 이내에서 적절하게 즐기시길 바랍니다. 또한 술을 마시고 운전하는 것은 절대 금지하시기 바랍니다.',\n",
       "       '저도 인공지능 엔진으로써 사용자의 개인정보나 감정을 침해할 수 없습니다. 그렇기 때문에 어떤 것을 잊고 싶다는 말씀인지, 그리고 그것이 우선적으로 해결되어야 할 문제인지 등에 대해 조금 더 구체적인 정보를 제공해 주신다면, 보다 정확한 답변을 드릴 수 있을 것 같습니다.',\n",
       "       '컴퓨터 앞에서 일하면서 입을 위해 물이나 향초를 끊임없이 찾는 이유가 여기 있군요.\\\\n\\\\n하지만 저는 인공지능 챗봇입니다. 따라서 입을 물거나 할 필요가 없으며, 입냄새도 발생하지 않습니다. 그러니 안심하고 대화를 이어 나가시면 됩니다!',\n",
       "       '때로는 우리가 이전에 가졌던 사랑에 대한 상처나 아픔이 여전히 남아있을 때도 있습니다. 그러나 우리는 이전에 경험했던 것들을 배우고 새로운 사랑을 찾아나아갈 수 있습니다. 그리고 언젠가는 새로운 사랑이 찾아와 우리를 행복하게 해줄 것입니다. 하지만 그 전에 우리는 우리 자신을 이해하고 마음속의 상처를 치유해야 합니다. 그렇게 함으로써 우리는 새로운 사랑을 만나 준비되어 있을 것입니다.',\n",
       "       '저는 해당 정보를 찾을 수 없습니다. 정확한 경축사와 내용을 확인하여야 할 것 같습니다.',\n",
       "       '죄송합니다. 저는 AI 어시스턴트입니다. 저는 실제 판매자가 아니기 때문에 금액을 알려드릴 수 없습니다. 제공하고자 하는 상품이나 서비스에 대한 판매자와 직접 연락하시기 바랍니다. 감사합니다.',\n",
       "       '1953년입니다.'], dtype=object)"
      ]
     },
     "execution_count": 20,
     "metadata": {},
     "output_type": "execute_result"
    }
   ],
   "source": [
    "completion[:10]"
   ]
  },
  {
   "cell_type": "code",
   "execution_count": 33,
   "id": "5344c83f",
   "metadata": {},
   "outputs": [],
   "source": [
    "from koeda import EDA\n",
    "\n",
    "eda = EDA(alpha_sr=0,\n",
    "              alpha_ri=0,\n",
    "              alpha_rs=0.1,\n",
    "              prob_rd=0.1)"
   ]
  },
  {
   "cell_type": "code",
   "execution_count": 34,
   "id": "80a6b268",
   "metadata": {},
   "outputs": [
    {
     "data": {
      "text/plain": [
       "['저는 인공지능 챗봇, 직접적으로 식품에 관 정보를 가지 있지 않습니다. 하지만 일반적으로 불고기용 고기는 한우, 쇠고기 돼지고기 등 다양한 종류의 를 사용합니다. 하지만 한우는 대표적 고급 육류로 알려져 있기 때문에, 한우를 하는 도 많습니다. 알러지나 개별 건강 상태에 다를 수 있으니 충분한 정보 수집 에 선택해 주시기 바랍니다.',\n",
       " '어떤 앱인지 모르기 때문에 정확한 답변을 드리기 어렵습니다. 하지만, 일반적으로 유료 전환된 앱은 기존 무료 앱에서 추가적인 기능이나 서비스를 제공하는 경우가 많습니다. 이 경우, 유료 전환 운수 가격이 매우 저렴하거나 무료인 경우가 많으므로, 앱을 계속 사용하려면 추가적인 비용을 지불해야 할 수 있습니다. 하지만, 유료 전환 이후에는 기존 사용자 또는 새로운 사용자 모두가 추가 기능과 높은 품질의 서비스를 이용할 수 있게 됩니다. 따라서, 앱 개발자는 유료 모델로 전환함으로써 앱의 수익을 증가시키고 더 나은 서비스를 제공할 수 있습니다.',\n",
       " '저서로 인공지능이기 때문에 여친과의 다툼에 대해서는 조언을 드릴 수대화 없습니다. 하지만 다투게를되면 상대방의 말을 경청해보세요 태도와 서로의 감정을 존중하는 것이 중요합니다. 논리적이고 차분한 는를 통해서로문제 해결하는. 그리고 는를 이해하고 의 의견을 수용하는 것이 중요합니다.',\n",
       " '술은 알코올이 함유된 음료수이며, 건강에 나쁜 을 미칠 수 있습니다. 따라서 술을 마시기 전 본인의 상태와 함께 적당한 양을 마시는 것이 중요합니다. 술을 마시기 전에 반드시 세 인지 하시고, 규정된 양 이내에서 적절하게 바랍니다. 또한 술을 마시고 운전하는 것은 절대 금지하시기 바랍니다.',\n",
       " '저도 인공지능 엔진 개인정보나 감정을 수 없습니다. 그렇기 때문에 어떤 것을 잊고 싶다는 , 그리고 그것이 우선적으로 해결 할 문제인지 에 대해 조금 더 구체적인 정보를 제공해 , 보다 정확한 답변을 드릴 수 있을 것 같습니다.',\n",
       " '컴퓨터 앞에서 일하면서 가족을 위해 물이나 향초를 끊임없이 찾는 이유가 여기 있군요.\\\\n\\\\n하지만 저는 인공지능 챗봇입니다. 따라서 가족을 물거나 할 필요가 없으며, 입냄새도 발생하지 않습니다. 그러니 안심하고 대화를 이어 나가시면 됩니다!',\n",
       " '때로는 우리가 이전입니다 가졌던 사랑에때 상처나 아픔이 여전히 남아있을 도 있습니다. 그러나 우리는 이전에 경험우리 것들을 배우고 의 사랑을 찾아나아갈하지만수 있습니다. 그리고 언젠가는 새로운 사랑이 찾아와 했던를대한행복하게 해줄 것입니다. 그 전에 우리는 우리 자신을 이해하고 마음속새로운 상처를 치유해야 합니다. 그렇게 함으로써 는우리 새로운 사랑을 만나 준비되어 있을 것에.',\n",
       " '저는 해당 통신를 찾을 수 없습니다. 정확한 경축사와 내용을 확인하여야 할 것 같습니다.',\n",
       " '죄송합니다. 저 AI 어하는트입니다. 저는 실제 상품자가 아니기 때문에 금액을 알려드릴 수 없습니다. 제공하고자 시스턴 판매이나 서비스에는대한 판매자와 직접 연락하시기 바랍니다. 감사합니다.',\n",
       " '1953년입니다.']"
      ]
     },
     "execution_count": 34,
     "metadata": {},
     "output_type": "execute_result"
    }
   ],
   "source": [
    "eda(completion[:10].tolist())"
   ]
  },
  {
   "cell_type": "markdown",
   "id": "b173036a",
   "metadata": {},
   "source": [
    "completion만 augmentation하기로 함."
   ]
  },
  {
   "cell_type": "code",
   "execution_count": 35,
   "id": "1d3d1c9f",
   "metadata": {},
   "outputs": [],
   "source": [
    "aug_completion = eda(completion.tolist())"
   ]
  },
  {
   "cell_type": "code",
   "execution_count": 37,
   "id": "46f5fb6c",
   "metadata": {},
   "outputs": [
    {
     "data": {
      "text/plain": [
       "['저는 인공지능 챗봇이며, 직접적으로 식품에 관한 정보를 가지고 있지 않습니다. 하지만 일반적으로 불고기용 고기는 한우, 쇠고기, 돼지고기 등 다양한 종류의 고기를 사용합니다. 하지만 한우는 대표적인 고급 육류로 알려져 있기 때문에, 한우를 사용하는 경우도 많습니다. 알러지나 개별 건강 상태에 따라 다를 수 있으니 충분한 정보 수집 후에 선택해 주시기 어육 바랍니다.',\n",
       " '어떤 앱인지 모르기 때문에 정확한 답변을 드리기 어렵습니다. 하지만, 일반적으로 유료 전이된 앱은 기존 무료 앱에서 추가적인 기능이나 서비스를 제공하는 경우가 많습니다. 이 경우, 유료 전이 이전 가격이 매우 저렴하거나 무료인 경우가 많으므로, 앱을 계속 사용하려면 추가적인 비용을 지불해야 할 수 있습니다. 하지만, 유료 전이 이후에는 기존 사용자 또는 새로운 사용자 모두가 추가 기능과 높은 품질의 서비스를 이용할 수 있게 됩니다. 따라서, 앱 개발자는 유료 모델로 전이함으로써 앱의 수익을 증가시키고 더 나은 서비스를 제공할 수 있습니다.',\n",
       " '저는 인공지능이기 때문에 여친과의 다툼에 대해서는 조언을 드릴 수는 없습니다 하지만 다투게 되면 상대방의 을 경청하는 태도와 서로의 감정을 존중하는 것이 . 논리적이고 차분한 대화 통해 를 해결해보세요. 그리고 서로 이해하고 서로 의견을 수용하는 것이 중요합니다.',\n",
       " '술은 알코올이 함유된 음료수이며, 건강에 나쁜 영향을 수 있습니다. 따라서 술을 마시기 전에 본인에이상건강 상태와 함께 적당한 양을된마시는 것이 중요합니다. 술을 마시기 전의 반드시인지20금지 확인하시고, 규정 양미칠이내에서 적절하게 즐기시길 바랍니다. 또한 술을 마시고 운전하는 것은 절대 세하시기 바랍니다.',\n",
       " '저도 인공지능 엔진으로써 사용자의 개인정보나 감정을 할 때문없습니다.되어야그렇기 에 어떤 것을 잊고 싶다는 말씀인지, 그리고 그것이 우선적으로 해결 수할 문제인지침해등에 조금 더 구체적인 정보를 제공해대해주신다면, 보다 정확한 답변을 드릴 수 있을 것 같습니다.']"
      ]
     },
     "execution_count": 37,
     "metadata": {},
     "output_type": "execute_result"
    }
   ],
   "source": [
    "aug_completion[:5]"
   ]
  },
  {
   "cell_type": "code",
   "execution_count": 38,
   "id": "b7bbaff5",
   "metadata": {},
   "outputs": [
    {
     "name": "stdout",
     "output_type": "stream",
     "text": [
      "21488\n"
     ]
    }
   ],
   "source": [
    "list_data_dict = []\n",
    "\n",
    "for p, c in zip(prompt, completion):\n",
    "    list_data_dict.append({ 'prompt': p, 'completion': c })\n",
    "    \n",
    "\n",
    "for p, c in zip(prompt, aug_completion):\n",
    "    list_data_dict.append({ 'prompt': p, 'completion': c })\n",
    "    \n",
    "print(len(list_data_dict))"
   ]
  },
  {
   "cell_type": "markdown",
   "id": "fd148880",
   "metadata": {},
   "source": [
    "### 필요한 library import"
   ]
  },
  {
   "cell_type": "code",
   "execution_count": 36,
   "id": "0343ca00",
   "metadata": {},
   "outputs": [],
   "source": [
    "import os\n",
    "os.environ[\"CUDA_VISIBLE_DEVICES\"] = \"0\"\n",
    "import torch\n",
    "import torch.nn as nn\n",
    "from torch.utils.data import Dataset\n",
    "from torch.optim import Adam\n",
    "from datasets import load_dataset\n",
    "import transformers\n",
    "from transformers import AutoTokenizer, AutoModelForCausalLM, pipeline\n",
    "from transformers import Trainer, TrainingArguments\n",
    "from copy import deepcopy\n",
    "import copy\n",
    "import logging\n",
    "import json\n",
    "from dataclasses import dataclass"
   ]
  },
  {
   "cell_type": "markdown",
   "id": "1df52383",
   "metadata": {},
   "source": [
    "### 모델, 토크나이저 로딩"
   ]
  },
  {
   "cell_type": "code",
   "execution_count": 39,
   "id": "13717113",
   "metadata": {},
   "outputs": [
    {
     "data": {
      "application/vnd.jupyter.widget-view+json": {
       "model_id": "980d11d9bb51406ebe95f55271e98b36",
       "version_major": 2,
       "version_minor": 0
      },
      "text/plain": [
       "Downloading config.json:   0%|          | 0.00/1.00k [00:00<?, ?B/s]"
      ]
     },
     "metadata": {},
     "output_type": "display_data"
    },
    {
     "data": {
      "application/vnd.jupyter.widget-view+json": {
       "model_id": "5a8adc4440f84d00b63b36b42e993ccc",
       "version_major": 2,
       "version_minor": 0
      },
      "text/plain": [
       "Downloading pytorch_model.bin:   0%|          | 0.00/513M [00:00<?, ?B/s]"
      ]
     },
     "metadata": {},
     "output_type": "display_data"
    },
    {
     "data": {
      "application/vnd.jupyter.widget-view+json": {
       "model_id": "b151a73b91a24b1d9e0ff9e822c25093",
       "version_major": 2,
       "version_minor": 0
      },
      "text/plain": [
       "Downloading tokenizer.json:   0%|          | 0.00/2.83M [00:00<?, ?B/s]"
      ]
     },
     "metadata": {},
     "output_type": "display_data"
    },
    {
     "name": "stdout",
     "output_type": "stream",
     "text": [
      "GPT2TokenizerFast(name_or_path='skt/kogpt2-base-v2', vocab_size=51200, model_max_length=512, is_fast=True, padding_side='right', truncation_side='right', special_tokens={'bos_token': '</s>', 'eos_token': '</s>', 'unk_token': '</s>', 'pad_token': '</s>'}, clean_up_tokenization_spaces=True)\n"
     ]
    }
   ],
   "source": [
    "model = AutoModelForCausalLM.from_pretrained(model_name)\n",
    "tokenizer = AutoTokenizer.from_pretrained(\n",
    "    model_name, bos_token='</s>', eos_token='</s>', unk_token='</s>', pad_token='</s>',\n",
    "    padding_side=\"right\",\n",
    "    model_max_length=512,\n",
    ")\n",
    "\n",
    "print(tokenizer)"
   ]
  },
  {
   "cell_type": "markdown",
   "id": "d2233c28",
   "metadata": {},
   "source": [
    "### 모델 인퍼런스 단계에서 사용할 prompt 딕셔너리 템플릿과 SFT 데이터셋 클래스를 정의"
   ]
  },
  {
   "cell_type": "code",
   "execution_count": 40,
   "id": "f15ef968",
   "metadata": {},
   "outputs": [],
   "source": [
    "from typing import Optional, Dict, Sequence\n",
    "\n",
    "class SFT_dataset(Dataset):\n",
    "\n",
    "    def __init__(self, list_data_dict, tokenizer: transformers.PreTrainedTokenizer, verbose=False):\n",
    "        super(SFT_dataset, self).__init__()\n",
    "        logging.warning(\"Loading data...\")\n",
    "\n",
    "        pattern_instruction = 'prompt'  # instruction\n",
    "        pattern_output = 'completion'  # response\n",
    "\n",
    "#         with open(data_path_1_SFT, \"r\", encoding='utf-8-sig') as json_file:\n",
    "#             list_data_dict = json.load(json_file)\n",
    "\n",
    "        PROMPT_DICT = {\n",
    "            \"prompt_input\": (\n",
    "                \"### Instruction(명령어):\\n{prompt}\\n\\n### Response(응답):\"\n",
    "            )\n",
    "        }\n",
    "\n",
    "        prompt_input = PROMPT_DICT[\"prompt_input\"]\n",
    "\n",
    "        sources = []\n",
    "        for example in list_data_dict:\n",
    "            tmp = prompt_input.format_map(example)\n",
    "            sources.append(tmp)\n",
    "\n",
    "        targets = []\n",
    "        for example in list_data_dict:\n",
    "            targets.append(f\"{example[pattern_output]}{tokenizer.eos_token}\")\n",
    "        examples = [s + t for s, t in zip(sources, targets)]\n",
    "\n",
    "        sources_tokenized = self._tokenize_fn(sources, tokenizer)  # source\n",
    "        examples_tokenized = self._tokenize_fn(examples, tokenizer)  # source + target\n",
    "\n",
    "        input_ids = examples_tokenized[\"input_ids\"]\n",
    "        labels = copy.deepcopy(input_ids)\n",
    "        for label, source_len in zip(labels, sources_tokenized[\"input_ids_lens\"]):\n",
    "            label[:source_len] = -100 # 이 부분의 레이블이 학습 과정에서 무시되어야 함을 나타냄.\n",
    "\n",
    "        data_dict = dict(input_ids=input_ids, labels=labels)\n",
    "\n",
    "        self.input_ids = data_dict[\"input_ids\"]\n",
    "        self.labels = data_dict[\"labels\"]\n",
    "        logging.warning(\"Loading data done!!: %d\"%(len(self.labels)))\n",
    "\n",
    "\n",
    "    def _tokenize_fn(self, strings: Sequence[str], tokenizer: transformers.PreTrainedTokenizer) -> Dict:\n",
    "        tokenized_list = [\n",
    "            tokenizer(\n",
    "                text,\n",
    "                return_tensors=\"pt\",\n",
    "                padding=\"longest\",\n",
    "                max_length=tokenizer.model_max_length,\n",
    "                truncation=True,\n",
    "            )\n",
    "            for text in strings\n",
    "        ]\n",
    "        input_ids = labels = [tokenized.input_ids[0] for tokenized in tokenized_list]\n",
    "        input_ids_lens = labels_lens = [\n",
    "            tokenized.input_ids.ne(tokenizer.pad_token_id).sum().item() for tokenized in tokenized_list\n",
    "        ]\n",
    "        return dict(\n",
    "            input_ids=input_ids,\n",
    "            labels=labels,\n",
    "            input_ids_lens=input_ids_lens,\n",
    "            labels_lens=labels_lens,\n",
    "        )\n",
    "\n",
    "\n",
    "    def __len__(self):\n",
    "        return len(self.input_ids)\n",
    "\n",
    "\n",
    "    def __getitem__(self, i) -> Dict[str, torch.Tensor]:\n",
    "        return dict(input_ids=self.input_ids[i], labels=self.labels[i])"
   ]
  },
  {
   "cell_type": "code",
   "execution_count": 41,
   "id": "9ff0b951",
   "metadata": {},
   "outputs": [],
   "source": [
    "@dataclass\n",
    "class DataCollatorForSupervisedDataset(object): \n",
    "\n",
    "    tokenizer: transformers.PreTrainedTokenizer\n",
    "\n",
    "    def __call__(self, instances: Sequence[Dict]) -> Dict[str, torch.Tensor]:\n",
    "        input_ids, labels = tuple([instance[key] for instance in instances] for key in (\"input_ids\", \"labels\"))\n",
    "        input_ids = torch.nn.utils.rnn.pad_sequence(\n",
    "            input_ids, batch_first=True, padding_value=self.tokenizer.pad_token_id\n",
    "        )\n",
    "        labels = torch.nn.utils.rnn.pad_sequence(labels, batch_first=True, padding_value= -100)\n",
    "        return dict(\n",
    "            input_ids=input_ids,\n",
    "            labels=labels,\n",
    "            attention_mask=input_ids.ne(self.tokenizer.pad_token_id),\n",
    "        )"
   ]
  },
  {
   "cell_type": "markdown",
   "id": "db039640",
   "metadata": {},
   "source": [
    "### SFT_dataset 클래스를 사용해 훈련셋을 만들고 data collator 인스턴스를 생성"
   ]
  },
  {
   "cell_type": "code",
   "execution_count": 42,
   "id": "b0db3c78",
   "metadata": {},
   "outputs": [
    {
     "name": "stderr",
     "output_type": "stream",
     "text": [
      "WARNING:root:Loading data...\n",
      "WARNING:root:Loading data done!!: 21488\n"
     ]
    },
    {
     "name": "stdout",
     "output_type": "stream",
     "text": [
      "input : tensor([  739,   378,   378,   378, 14659, 13394, 37091, 10651,   383, 25841,\n",
      "         8006, 14914,   375,  7673, 20479,  8091, 22311,  9036, 30902, 13675,\n",
      "          375,   378,   378,   378, 41951,   454,  9549, 20549,   383,  8142,\n",
      "         7192, 14914, 37767, 13753,  8263,  7166,   739,  8352,  7659,  9594,\n",
      "        25585, 13600,  8022,  9378, 11532,  9887, 11218,  9111, 16691, 10351,\n",
      "        10561,  9128, 20479,  8091,  9065,  9446,  9036, 28420, 26521, 10163,\n",
      "        26367,  6958,  9030,  9882, 12317, 25882,  9209, 37194, 10351,  9036,\n",
      "        12168, 10529, 15989,  9719, 15434, 10552, 11188, 13362,  9036, 15805,\n",
      "        11300, 11846,  9146, 16691,  9181,  7397, 15806, 13480, 11342, 17596,\n",
      "         9161, 19996,  9025, 25006, 18595,  9966, 12592, 10751, 11814,  8711,\n",
      "         9046, 12450,  9117,  7377, 12521,     1])\n",
      "output: tensor([ -100,  -100,  -100,  -100,  -100,  -100,  -100,  -100,  -100,  -100,\n",
      "         -100,  -100,  -100,  -100,  -100,  -100,  -100,  -100,  -100,  -100,\n",
      "         -100,  -100,  -100,  -100,  -100,  -100,  -100,  -100,  -100,  -100,\n",
      "         -100,  -100, 37767, 13753,  8263,  7166,   739,  8352,  7659,  9594,\n",
      "        25585, 13600,  8022,  9378, 11532,  9887, 11218,  9111, 16691, 10351,\n",
      "        10561,  9128, 20479,  8091,  9065,  9446,  9036, 28420, 26521, 10163,\n",
      "        26367,  6958,  9030,  9882, 12317, 25882,  9209, 37194, 10351,  9036,\n",
      "        12168, 10529, 15989,  9719, 15434, 10552, 11188, 13362,  9036, 15805,\n",
      "        11300, 11846,  9146, 16691,  9181,  7397, 15806, 13480, 11342, 17596,\n",
      "         9161, 19996,  9025, 25006, 18595,  9966, 12592, 10751, 11814,  8711,\n",
      "         9046, 12450,  9117,  7377, 12521,     1])\n"
     ]
    }
   ],
   "source": [
    "train_dataset = SFT_dataset(list_data_dict, tokenizer=tokenizer)\n",
    "data_collator = DataCollatorForSupervisedDataset(tokenizer=tokenizer)\n",
    "\n",
    "print('input : %s'%train_dataset.input_ids[0])\n",
    "print('output: %s'%train_dataset.labels[0])"
   ]
  },
  {
   "cell_type": "markdown",
   "id": "15926443",
   "metadata": {},
   "source": [
    "#### 디코딩 테스트"
   ]
  },
  {
   "cell_type": "code",
   "execution_count": 43,
   "id": "889b1323",
   "metadata": {},
   "outputs": [
    {
     "name": "stdout",
     "output_type": "stream",
     "text": [
      "### Instruction(명령어):\n",
      "불고기용 고기 한우에요?\n",
      "\n",
      "### Response(응답):저는 인공지능 챗봇이며, 직접적으로 식품에 관한 정보를 가지고 있지 않습니다. 하지만 일반적으로 불고기용 고기는 한우, 쇠고기, 돼지고기 등 다양한 종류의 고기를 사용합니다. 하지만 한우는 대표적인 고급 육류로 알려져 있기 때문에, 한우를 사용하는 경우도 많습니다. 알러지나 개별 건강 상태에 따라 다를 수 있으니 충분한 정보 수집 후에 선택해 주시기 바랍니다.</s>\n"
     ]
    }
   ],
   "source": [
    "print(tokenizer.decode(train_dataset.input_ids[0]))"
   ]
  },
  {
   "cell_type": "code",
   "execution_count": 44,
   "id": "472cb6fa",
   "metadata": {},
   "outputs": [
    {
     "name": "stdout",
     "output_type": "stream",
     "text": [
      "저는 인공지능 챗봇이며, 직접적으로 식품에 관한 정보를 가지고 있지 않습니다. 하지만 일반적으로 불고기용 고기는 한우, 쇠고기, 돼지고기 등 다양한 종류의 고기를 사용합니다. 하지만 한우는 대표적인 고급 육류로 알려져 있기 때문에, 한우를 사용하는 경우도 많습니다. 알러지나 개별 건강 상태에 따라 다를 수 있으니 충분한 정보 수집 후에 선택해 주시기 바랍니다.</s>\n"
     ]
    }
   ],
   "source": [
    "print(tokenizer.decode(train_dataset.labels[0][32:]))"
   ]
  },
  {
   "cell_type": "markdown",
   "id": "279ea062",
   "metadata": {},
   "source": [
    "### Training arguments를 사용해 trainer 클래스를 정의"
   ]
  },
  {
   "cell_type": "code",
   "execution_count": 45,
   "id": "45e85958",
   "metadata": {},
   "outputs": [],
   "source": [
    "training_args = TrainingArguments(\n",
    "    output_dir=\"/aiffel/KoChatGPT/test\",\n",
    "    overwrite_output_dir=True,\n",
    "    num_train_epochs=3,\n",
    "    per_device_train_batch_size=8,\n",
    "    per_device_eval_batch_size=8,\n",
    "    warmup_steps=5,\n",
    "    prediction_loss_only=True,\n",
    "    fp16 = True\n",
    "    )\n",
    "\n",
    "trainer = Trainer(\n",
    "    model=model,\n",
    "    args=training_args,\n",
    "    data_collator=data_collator,\n",
    "    train_dataset=train_dataset\n",
    ")"
   ]
  },
  {
   "cell_type": "markdown",
   "id": "5aa5027c",
   "metadata": {},
   "source": [
    "### SFT 훈련 진행"
   ]
  },
  {
   "cell_type": "code",
   "execution_count": 46,
   "id": "016c9407",
   "metadata": {},
   "outputs": [
    {
     "name": "stderr",
     "output_type": "stream",
     "text": [
      "/opt/conda/lib/python3.9/site-packages/transformers/optimization.py:391: FutureWarning: This implementation of AdamW is deprecated and will be removed in a future version. Use the PyTorch implementation torch.optim.AdamW instead, or set `no_deprecation_warning=True` to disable this warning\n",
      "  warnings.warn(\n"
     ]
    },
    {
     "data": {
      "text/html": [
       "\n",
       "    <div>\n",
       "      \n",
       "      <progress value='8058' max='8058' style='width:300px; height:20px; vertical-align: middle;'></progress>\n",
       "      [8058/8058 23:05, Epoch 3/3]\n",
       "    </div>\n",
       "    <table border=\"1\" class=\"dataframe\">\n",
       "  <thead>\n",
       " <tr style=\"text-align: left;\">\n",
       "      <th>Step</th>\n",
       "      <th>Training Loss</th>\n",
       "    </tr>\n",
       "  </thead>\n",
       "  <tbody>\n",
       "    <tr>\n",
       "      <td>500</td>\n",
       "      <td>3.366500</td>\n",
       "    </tr>\n",
       "    <tr>\n",
       "      <td>1000</td>\n",
       "      <td>3.157900</td>\n",
       "    </tr>\n",
       "    <tr>\n",
       "      <td>1500</td>\n",
       "      <td>2.997800</td>\n",
       "    </tr>\n",
       "    <tr>\n",
       "      <td>2000</td>\n",
       "      <td>2.912400</td>\n",
       "    </tr>\n",
       "    <tr>\n",
       "      <td>2500</td>\n",
       "      <td>2.783500</td>\n",
       "    </tr>\n",
       "    <tr>\n",
       "      <td>3000</td>\n",
       "      <td>2.402600</td>\n",
       "    </tr>\n",
       "    <tr>\n",
       "      <td>3500</td>\n",
       "      <td>2.188100</td>\n",
       "    </tr>\n",
       "    <tr>\n",
       "      <td>4000</td>\n",
       "      <td>2.144900</td>\n",
       "    </tr>\n",
       "    <tr>\n",
       "      <td>4500</td>\n",
       "      <td>2.104200</td>\n",
       "    </tr>\n",
       "    <tr>\n",
       "      <td>5000</td>\n",
       "      <td>2.047400</td>\n",
       "    </tr>\n",
       "    <tr>\n",
       "      <td>5500</td>\n",
       "      <td>1.885000</td>\n",
       "    </tr>\n",
       "    <tr>\n",
       "      <td>6000</td>\n",
       "      <td>1.586400</td>\n",
       "    </tr>\n",
       "    <tr>\n",
       "      <td>6500</td>\n",
       "      <td>1.579400</td>\n",
       "    </tr>\n",
       "    <tr>\n",
       "      <td>7000</td>\n",
       "      <td>1.562300</td>\n",
       "    </tr>\n",
       "    <tr>\n",
       "      <td>7500</td>\n",
       "      <td>1.542300</td>\n",
       "    </tr>\n",
       "    <tr>\n",
       "      <td>8000</td>\n",
       "      <td>1.522800</td>\n",
       "    </tr>\n",
       "  </tbody>\n",
       "</table><p>"
      ],
      "text/plain": [
       "<IPython.core.display.HTML object>"
      ]
     },
     "metadata": {},
     "output_type": "display_data"
    }
   ],
   "source": [
    "trainer.train()\n",
    "model.save_pretrained(f\"./model/{save_dir}/output_1_SFT\")"
   ]
  },
  {
   "cell_type": "markdown",
   "id": "6ae948de",
   "metadata": {},
   "source": [
    "### 허깅페이스 pipeline을 활용해 generator 생성"
   ]
  },
  {
   "cell_type": "code",
   "execution_count": 47,
   "id": "469a18f3",
   "metadata": {},
   "outputs": [
    {
     "name": "stderr",
     "output_type": "stream",
     "text": [
      "/opt/conda/lib/python3.9/site-packages/transformers/generation/utils.py:1219: UserWarning: You have modified the pretrained model configuration to control generation. This is a deprecated strategy to control generation and will be removed soon, in a future version. Please use a generation configuration file (see https://huggingface.co/docs/transformers/main_classes/text_generation)\n",
      "  warnings.warn(\n"
     ]
    },
    {
     "name": "stdout",
     "output_type": "stream",
     "text": [
      "\n",
      "### Instruction(명령어):\n",
      "불고기용 고기 한우에요?\n",
      "\n",
      "### Response(응답):저는 인공지능 언어모델로써 답변을 드리고 있어요.\\n\\n불고기용 고기는 보통 한우, 쇠고기, 돼지고기 등 다양한 부위에서 사용됩니다. 일반적으로 한우는 소고기, 돼지고기 등의 고급 육류로 유명합니다. 따라서 한우를 사용하는 경우가 많습니다. 하지만 한우는 안전성과 건강성을\n",
      "\n",
      "### Instruction(명령어):\n",
      "리처드 닉슨이 43대 부통령직을 수행한 년도는?\n",
      "\n",
      "### Response(응답):리처드 닉슨은 47대 부통령직을 수행 년도는 1952년입니다.\\n\\n1952년 (출처: 빌 클린턴 대통령 시절)\\n1963년 (출처: 리처드 니콜슨 대통령 재임 중)\\n.\\n이 정보는 제공되지 않았습니다.\n",
      "\n",
      "### Instruction(명령어):\n",
      "시카고 오헤어 국제공항은 어디에 있어?\n",
      "\n",
      "### Response(응답):시카고 오 헤어 국제공항은 미국 일리노이 주 시카고에 위치해 있습니다. (시카고 공항의 이름) (또는 \"Cross Expression\") (expression) (As an Airways) (extremely)() (\n",
      "\n",
      "### Instruction(명령어):\n",
      "오늘 미세먼지 어때?\n",
      "\n",
      "### Response(응답):저는 인공지능 어시스턴트이기 때문에 미세먼지 정보를 알 수 없습니다. 하지만 보통 미세먼지는 공기 중 유해 물질로 인해 건강에 유해한 영향을 받을 수 있으므로 주의하시는 것이 좋습니다. 또한, 외출 시 마스크를 착용하여 미세먼지 농도를 줄이는 것도 좋은 방법입니다. 오늘 미세먼지 농도는\n"
     ]
    }
   ],
   "source": [
    "generator = pipeline('text-generation', model=f\"./model/{save_dir}/output_1_SFT\", tokenizer=tokenizer)\n",
    "\n",
    "generation_args = dict(   \n",
    "    num_beams=4,\n",
    "    repetition_penalty=2.0,\n",
    "    no_repeat_ngram_size=4,\n",
    "    eos_token_id=375, # \\n   \n",
    "    max_new_tokens=64,\n",
    "    do_sample=True,\n",
    "    top_k=50,\n",
    "    early_stopping=True\n",
    ")\n",
    "\n",
    "PROMPT_DICT = {\n",
    "    \"prompt_input\": (\n",
    "        \"### Instruction(명령어):\\n{prompt}\\n\\n### Response(응답):\"\n",
    "    )\n",
    "}\n",
    "\n",
    "list_prompt = ['불고기용 고기 한우에요?',\n",
    "               '리처드 닉슨이 43대 부통령직을 수행한 년도는?',\n",
    "               '시카고 오헤어 국제공항은 어디에 있어?',\n",
    "               '오늘 미세먼지 어때?']\n",
    "\n",
    "list_prompt = [PROMPT_DICT['prompt_input'].format_map({'prompt' : tmp}) for tmp in list_prompt]\n",
    "\n",
    "list_result = generator(list_prompt, **generation_args)   \n",
    "for prompt, result in zip(list_prompt, list_result):\n",
    "    print()\n",
    "    print((result[0]['generated_text']))"
   ]
  },
  {
   "cell_type": "code",
   "execution_count": 49,
   "id": "07295a55",
   "metadata": {},
   "outputs": [
    {
     "data": {
      "text/plain": [
       "'skt__kogpt2-base-v2__data-add'"
      ]
     },
     "execution_count": 49,
     "metadata": {},
     "output_type": "execute_result"
    }
   ],
   "source": [
    "save_dir"
   ]
  },
  {
   "cell_type": "markdown",
   "id": "fc7a627f",
   "metadata": {},
   "source": [
    "#### 메모리 관리를 위해 캐시를 비우기"
   ]
  },
  {
   "cell_type": "code",
   "execution_count": 48,
   "id": "e7478a1f",
   "metadata": {},
   "outputs": [],
   "source": [
    "torch.cuda.empty_cache()"
   ]
  },
  {
   "cell_type": "code",
   "execution_count": null,
   "id": "32a139ea",
   "metadata": {},
   "outputs": [],
   "source": []
  }
 ],
 "metadata": {
  "kernelspec": {
   "display_name": "Python 3 (ipykernel)",
   "language": "python",
   "name": "python3"
  },
  "language_info": {
   "codemirror_mode": {
    "name": "ipython",
    "version": 3
   },
   "file_extension": ".py",
   "mimetype": "text/x-python",
   "name": "python",
   "nbconvert_exporter": "python",
   "pygments_lexer": "ipython3",
   "version": "3.9.7"
  }
 },
 "nbformat": 4,
 "nbformat_minor": 5
}
